{
 "cells": [
  {
   "cell_type": "code",
   "execution_count": null,
   "metadata": {},
   "outputs": [],
   "source": [
    "# Importing libraries\n",
    "\n",
    "import pandas as pd\n",
    "import numpy as np\n",
    "from math import *\n",
    "import sys\n",
    "\n",
    "# I am going to display only 7 columns to avoid problems of overlapping when publishing in web\n",
    "pd.set_option('display.max_columns', 7)\n",
    "\n",
    "# Importing visualization libraries\n",
    "import matplotlib.pyplot as plt\n",
    "import matplotlib.pylab as pylab\n",
    "import seaborn as sns\n",
    "import missingno as msno\n",
    "plt.style.use( 'ggplot' )\n",
    "%matplotlib inline\n",
    "\n",
    "#Import preprocessing libraries\n",
    "from sklearn.preprocessing import MinMaxScaler , StandardScaler, Imputer, LabelEncoder\n",
    "\n",
    "# Ignore warnings \n",
    "import warnings\n",
    "warnings.filterwarnings('ignore')\n",
    "# Importing clustering libraries\n",
    "from sklearn.cluster import KMeans\n"
   ]
  },
  {
   "cell_type": "code",
   "execution_count": null,
   "metadata": {},
   "outputs": [],
   "source": [
    "# Reading the  data\n",
    "df = pd.read_csv('C:\\Users\\Hector\\Python_blog\\CC_GENERAL.csv',index_col=0)\n"
   ]
  },
  {
   "cell_type": "code",
   "execution_count": null,
   "metadata": {},
   "outputs": [],
   "source": [
    "# Here are the columns.\n",
    "list(df.columns)\n",
    "# All fields are the  typical that you may expect in a CC data set.\n",
    "#---------------\n",
    "#DATA DICTIONARY\n",
    "#---------------\n",
    "\n",
    "#Credit card holder ID \n",
    "#Monthly average balance (based on daily balance averages) \n",
    "#Ratio of last 12 months with balance \n",
    "#Total purchase amount spent during last 12 months \n",
    "#Total amount of one-off purchases \n",
    "#Total amount of installment purchases \n",
    "#Total cash-advance amount \n",
    "#Frequency of purchases (percentage of months with at least one purchase) \n",
    "#Frequency of one-off-purchases \n",
    "#Frequency of installment purchases \n",
    "#Cash-Advance frequency \n",
    "#Average amount per cash-advance transaction \n",
    "#Average amount per purchase transaction \n",
    "#Credit limit \n",
    "#Total payments(due amount paid by the customer to decrease their statement balance) in the period \n",
    "#Total minimum payments due in the period. \n",
    "#Percentage of months with full payment of the due statement balance \n",
    "#Number of months as a customer"
   ]
  },
  {
   "cell_type": "code",
   "execution_count": null,
   "metadata": {},
   "outputs": [],
   "source": [
    "df.head()"
   ]
  },
  {
   "cell_type": "code",
   "execution_count": null,
   "metadata": {},
   "outputs": [],
   "source": [
    "# We have 17 features in our dataframe\n",
    "df.shape"
   ]
  },
  {
   "cell_type": "code",
   "execution_count": null,
   "metadata": {},
   "outputs": [],
   "source": [
    "#we have 8950 rows and some nulls\n",
    "df.info()\n"
   ]
  },
  {
   "cell_type": "code",
   "execution_count": null,
   "metadata": {},
   "outputs": [],
   "source": [
    "df.describe()\n"
   ]
  },
  {
   "cell_type": "code",
   "execution_count": null,
   "metadata": {},
   "outputs": [],
   "source": [
    "# Checking nulls\n",
    "df.isnull().sum()\n",
    "# We have nulls in credit limit and minimum payments\n",
    "# I will imput the values later."
   ]
  },
  {
   "cell_type": "code",
   "execution_count": null,
   "metadata": {},
   "outputs": [],
   "source": [
    "# checking for nulls\n",
    "# percentage of nan\n",
    "# number of nan\n",
    "msno.matrix(df);\n",
    "msno.bar(df);"
   ]
  },
  {
   "cell_type": "code",
   "execution_count": null,
   "metadata": {},
   "outputs": [],
   "source": [
    "# EXPORATORY DATA ANALYSIS\n",
    "df.hist(figsize=(18,18));"
   ]
  },
  {
   "cell_type": "code",
   "execution_count": null,
   "metadata": {},
   "outputs": [],
   "source": [
    "#let´s see how are distributed the frequency variables\n",
    "\n",
    "df[['BALANCE_FREQUENCY',\n",
    " 'PURCHASES_FREQUENCY',\n",
    " 'ONEOFF_PURCHASES_FREQUENCY',\n",
    " 'PURCHASES_INSTALLMENTS_FREQUENCY',\n",
    " 'CASH_ADVANCE_FREQUENCY',\n",
    "'PRC_FULL_PAYMENT']].plot.box(figsize=(18,10),title='Frequency',legend=True);\n",
    "plt.tight_layout()\n",
    "# We have data on Cash_advance_frequency that is wrong. I will clean the dataset later.\n",
    "# There are also many outliers, but we will keep then for now"
   ]
  },
  {
   "cell_type": "code",
   "execution_count": null,
   "metadata": {},
   "outputs": [],
   "source": [
    "#let´s see how are distributed the numeric variables\n",
    "\n",
    "df[['BALANCE',\n",
    " 'PURCHASES',\n",
    " 'ONEOFF_PURCHASES',\n",
    " 'INSTALLMENTS_PURCHASES',\n",
    " 'CASH_ADVANCE',\n",
    " 'CREDIT_LIMIT',\n",
    " 'PAYMENTS',\n",
    " 'MINIMUM_PAYMENTS'\n",
    "]].plot.box(figsize=(18,10),title='Distribution',legend=True);\n",
    "plt.tight_layout()\n",
    "\n",
    "# There are also many outliers, but we will keep them for now"
   ]
  },
  {
   "cell_type": "code",
   "execution_count": null,
   "metadata": {},
   "outputs": [],
   "source": [
    "#let´s see how are distributed the numeric variables\n",
    "\n",
    "df[[ 'CASH_ADVANCE_TRX',\n",
    " 'PURCHASES_TRX'\n",
    "]].plot.box(figsize=(18,10),title='Distribution of transactions',legend=True);\n",
    "plt.tight_layout()\n",
    "\n",
    "\n",
    "\n",
    "\n",
    "# There are also many outliers, but we will keep them for now"
   ]
  },
  {
   "cell_type": "code",
   "execution_count": null,
   "metadata": {},
   "outputs": [],
   "source": [
    "#let´s see how is distributed the tenure\n",
    "\n",
    "df[['TENURE'\n",
    "]].plot.kde(figsize=(18,10),title='Distribution of transactions',legend=True);\n",
    "plt.tight_layout()"
   ]
  },
  {
   "cell_type": "code",
   "execution_count": null,
   "metadata": {},
   "outputs": [],
   "source": [
    "#Lets take a look at how the  variables are correlated\n",
    "plt.figure(figsize=(18,10))\n",
    "sns.heatmap(df.corr(),cmap='coolwarm',annot=True);\n",
    "plt.title('Correlations', size = 28);"
   ]
  },
  {
   "cell_type": "code",
   "execution_count": null,
   "metadata": {},
   "outputs": [],
   "source": [
    "# Lets clean the data (inputing values and eliminating wrong data) before the segmentation\n",
    "df.loc[(df['CASH_ADVANCE_FREQUENCY']>1)]\n",
    "# we have 8 records for which the frequency is higher that 1. I will eliminate these  records"
   ]
  },
  {
   "cell_type": "code",
   "execution_count": null,
   "metadata": {},
   "outputs": [],
   "source": [
    "# dropping the records with frequency higher that 1\n",
    "df = df[(df[['CASH_ADVANCE_FREQUENCY']] <= 1).all(axis=1)]"
   ]
  },
  {
   "cell_type": "code",
   "execution_count": null,
   "metadata": {},
   "outputs": [],
   "source": [
    "df.shape"
   ]
  },
  {
   "cell_type": "code",
   "execution_count": null,
   "metadata": {},
   "outputs": [],
   "source": [
    "# Imputing values in 'MINIMUM_PAYMENTS' and 'CREDIT_LIMIT'\n",
    "#I will use the median  to input the values\n",
    "df['MINIMUM_PAYMENTS'].fillna(df['MINIMUM_PAYMENTS'].median(),inplace=True)\n",
    "df['CREDIT_LIMIT'].fillna(df['CREDIT_LIMIT'].median(),inplace=True)\n",
    "\n",
    "# I get rid of Customer Id as wee don´t need it\n",
    "#df.reset_index(inplace=True)\n",
    "#df.drop('CUST_ID',inplace=True,axis=1)\n",
    "\n",
    "df.head()\n"
   ]
  },
  {
   "cell_type": "code",
   "execution_count": null,
   "metadata": {},
   "outputs": [],
   "source": [
    "# Before using K-Means, as in K-means we optimize the sum of squared distances between the observations and their centroids\n",
    "# and as some varibles are expresed in different variables i.e frequencies, currency amount and number of transactions,\n",
    "# we need to standardize.\n",
    "# I am going to leave this section commented, because later on I would like to explore the centroids, but standardizing \n",
    "# the data will give us better results. \n",
    "# Then, we would follow the analysis with dataframe df_scaled instead of df.\n",
    "\n",
    "#Standardization\n",
    "# Create the scaler object with a range of 0-1\n",
    "scaler = MinMaxScaler(feature_range=(0, 1))\n",
    "df_columns=df.columns\n",
    "# Fit on the data and transform\n",
    "df_s=scaler.fit_transform(df.values)\n",
    "\n",
    "# Create the new dataframe\n",
    "\n",
    "df_scaled = pd.DataFrame(df_s,columns=df_columns)\n",
    "\n",
    "#df.head()\n",
    "df_scaled.head()"
   ]
  },
  {
   "cell_type": "code",
   "execution_count": null,
   "metadata": {},
   "outputs": [],
   "source": [
    "# K MEANS  CLUSTERING\n",
    "# Before using K means, i am going to determine the optimal number of clusters\n",
    "# i will use the Elbow method to find a good number of clusters\n",
    "inertia = []\n",
    "for k in range(1, 20):\n",
    "    kmeans = KMeans(n_clusters=k, random_state=1).fit(df)\n",
    "    inertia.append(np.sqrt(kmeans.inertia_))"
   ]
  },
  {
   "cell_type": "code",
   "execution_count": null,
   "metadata": {},
   "outputs": [],
   "source": [
    "plt.figure(figsize=(18,6))\n",
    "plt.title('optimal number of clusters')\n",
    "plt.plot(range(1, 20), inertia, marker='s');\n",
    "plt.xlabel('$k$')\n",
    "plt.ylabel('$J(C_k)$');"
   ]
  },
  {
   "cell_type": "code",
   "execution_count": null,
   "metadata": {},
   "outputs": [],
   "source": [
    "# It seems that the optimal number of clusters is between 7.5  and 8.\n",
    "# I am going to take 8 for the analysis\n",
    "kmeans = KMeans(n_clusters=8)"
   ]
  },
  {
   "cell_type": "code",
   "execution_count": null,
   "metadata": {},
   "outputs": [],
   "source": [
    "# applying kmeans\n",
    "kmeans.fit(df)"
   ]
  },
  {
   "cell_type": "code",
   "execution_count": null,
   "metadata": {},
   "outputs": [],
   "source": [
    "# Calculating the centroids\n",
    "\n",
    "centroids=kmeans.cluster_centers_\n",
    "centroids\n"
   ]
  },
  {
   "cell_type": "code",
   "execution_count": null,
   "metadata": {},
   "outputs": [],
   "source": [
    "# Creating a dataframe for the centroids\n",
    "centroids=kmeans.cluster_centers_\n",
    "index=['C0','C1','C2','C3','C4','C5','C6','C7']\n",
    "columns=df.columns\n",
    "centroid_df=pd.DataFrame(centroids,index,columns)\n",
    "centroid_df\n"
   ]
  },
  {
   "cell_type": "code",
   "execution_count": null,
   "metadata": {},
   "outputs": [],
   "source": [
    "#Adding the clusters to the dataframe\n",
    "df['cluster']=list(kmeans.labels_)"
   ]
  },
  {
   "cell_type": "code",
   "execution_count": null,
   "metadata": {},
   "outputs": [],
   "source": [
    "df.head()"
   ]
  },
  {
   "cell_type": "code",
   "execution_count": null,
   "metadata": {},
   "outputs": [],
   "source": [
    "sns.pairplot( df, hue=\"cluster\")"
   ]
  },
  {
   "cell_type": "code",
   "execution_count": null,
   "metadata": {},
   "outputs": [],
   "source": [
    "# I WILL REPEAT THE PROCESS BUT USING THE VARIABLES THAT HAVE MANAGED TO SEPARATE THE CLUSTERS MORE CLEARLY\n",
    "# VISUALIZING,DESCRIBING AND EXPLAINING THE CLUSTERS\n",
    "\n",
    "best_cols = [\"BALANCE\", \"PURCHASES_FREQUENCY\", \"CASH_ADVANCE\",\"INSTALLMENTS_PURCHASES\",\n",
    "             \"CREDIT_LIMIT\", \"PAYMENTS\",\"PRC_FULL_PAYMENT\" ]\n",
    "\n",
    "kmeans = KMeans(n_clusters=8, init=\"k-means++\", n_init=10, max_iter=300) \n",
    "best_vals = df[best_cols].iloc[ :, :].values\n",
    "y_pred = kmeans.fit_predict( best_vals )\n",
    "\n",
    "df[\"cluster\"] = y_pred\n",
    "best_cols.append(\"cluster\")\n",
    "sns.pairplot( df[ best_cols ], hue=\"cluster\");"
   ]
  },
  {
   "cell_type": "code",
   "execution_count": null,
   "metadata": {},
   "outputs": [],
   "source": [
    "# Number of clients by cluster\n",
    "df['cluster'].value_counts().plot.bar(figsize=(10,5), title='Customers by cluster');\n",
    "\n",
    "df['cluster'].value_counts()"
   ]
  },
  {
   "cell_type": "code",
   "execution_count": null,
   "metadata": {},
   "outputs": [],
   "source": [
    "# Creating a dataframe for the centroids\n",
    "centroids=kmeans.cluster_centers_\n",
    "index=['C0','C1','C2','C3','C4','C5','C6','C7']\n",
    "columns=[\"BALANCE\", \"PURCHASES_FREQUENCY\", \"CASH_ADVANCE\",\"INSTALLMENTS_PURCHASES\",\n",
    "             \"CREDIT_LIMIT\", \"PAYMENTS\",\"PRC_FULL_PAYMENT\" ]\n",
    "centroid_df=pd.DataFrame(centroids,index,columns)\n",
    "centroid_df"
   ]
  },
  {
   "cell_type": "code",
   "execution_count": null,
   "metadata": {},
   "outputs": [],
   "source": [
    "#CLUSTERS DESCRIPTION\n",
    "\n",
    "#VH-very high, H- high, M- medium, L- low, VL- Very low\n",
    "#C1    5105\n",
    "#C3    1534\n",
    "#C6     934\n",
    "#C4     457\n",
    "#C5     443\n",
    "#C0     327\n",
    "#C7      89\n",
    "#C2      53"
   ]
  },
  {
   "cell_type": "code",
   "execution_count": null,
   "metadata": {},
   "outputs": [],
   "source": [
    "#CLUSTER C0 -->327, VIP clients, strategy find ways for them to buy more. Mileage program\n",
    "#----------\n",
    "#BALANCE--> VH\n",
    "#PURCHASE FREQUENCY-->M\n",
    "#CASH ADVANCE-->H\n",
    "#INSTALLMENTS PURCHASES-->H\n",
    "#CREDIT LIMIT-->VH\n",
    "#PAYMENTS-->M\n",
    "#FULL PAYMENT-->L"
   ]
  },
  {
   "cell_type": "code",
   "execution_count": null,
   "metadata": {},
   "outputs": [],
   "source": [
    "#let´s characterize the Persona in the Cluster CO\n",
    "cluster_C0=df[df['cluster']==0]\n",
    "cluster_C0[['BALANCE','CASH_ADVANCE','INSTALLMENTS_PURCHASES',\n",
    "            'CREDIT_LIMIT','PAYMENTS']].plot.box(figsize=(18,10),by='cluster',title='Persona C0',legend=True);\n",
    "plt.tight_layout()\n",
    "cluster_C0[['PURCHASES_FREQUENCY','PRC_FULL_PAYMENT']].plot.box(figsize=(18,10),title='Persona C0',legend=True);\n",
    "plt.tight_layout()"
   ]
  },
  {
   "cell_type": "code",
   "execution_count": null,
   "metadata": {},
   "outputs": [],
   "source": [
    "#CLUSTER C1-->5105, bulk of the customers. Try for them to use the card more frequently. Rewards program.\n",
    "#----------\n",
    "#BALANCE--> L\n",
    "#PURCHASE FREQUENCY-->M\n",
    "#CASH ADVANCE-->L\n",
    "#INSTALLMENTS PURCHASES-->L\n",
    "#CREDIT LIMIT-->L\n",
    "#PAYMENTS-->L\n",
    "#FULL PAYMENT-->M"
   ]
  },
  {
   "cell_type": "code",
   "execution_count": null,
   "metadata": {},
   "outputs": [],
   "source": [
    "#let´s characterize the Persona in the Cluster C1\n",
    "cluster_C1=df[df['cluster']==1]\n",
    "cluster_C1[['BALANCE','CASH_ADVANCE','INSTALLMENTS_PURCHASES',\n",
    "            'CREDIT_LIMIT','PAYMENTS']].plot.box(figsize=(18,10),by='cluster',title='Persona C1',legend=True);\n",
    "plt.tight_layout()\n",
    "cluster_C1[['PURCHASES_FREQUENCY','PRC_FULL_PAYMENT']].plot.box(figsize=(18,10),title='Persona C1',legend=True);\n",
    "plt.tight_layout()"
   ]
  },
  {
   "cell_type": "code",
   "execution_count": null,
   "metadata": {},
   "outputs": [],
   "source": [
    "#CLUSTER C2-->53 VIP CUSTOMERS THAT BUY FREQUENTLY AND THE CARD TO WITHDROW MONEY. INCREASE THE CREDIT LIMIT AND OFFER T\n",
    "#THEM LOANS\n",
    "#----------\n",
    "#BALANCE--> H\n",
    "#PURCHASE FREQUENCY-->H\n",
    "#CASH ADVANCE-->M\n",
    "#INSTALLMENTS PURCHASES-->VH\n",
    "#CREDIT LIMIT-->VH\n",
    "#PAYMENTS-->VH\n",
    "#FULL PAYMENT-->VH"
   ]
  },
  {
   "cell_type": "code",
   "execution_count": null,
   "metadata": {},
   "outputs": [],
   "source": [
    "#let´s characterize the Persona in the Cluster C2\n",
    "cluster_C2=df[df['cluster']==2]\n",
    "cluster_C2[['BALANCE','CASH_ADVANCE','INSTALLMENTS_PURCHASES',\n",
    "            'CREDIT_LIMIT','PAYMENTS']].plot.box(figsize=(18,10),by='cluster',title='Persona C2',legend=True);\n",
    "plt.tight_layout()\n",
    "cluster_C2[['PURCHASES_FREQUENCY','PRC_FULL_PAYMENT']].plot.box(figsize=(18,10),title='Persona C2',legend=True);\n",
    "plt.tight_layout()"
   ]
  },
  {
   "cell_type": "code",
   "execution_count": null,
   "metadata": {},
   "outputs": [],
   "source": [
    "#CLUSTER C3 -->1534, THESE ARE TRANSACTORS, NOT VERY PROFITABLE\n",
    "#----------\n",
    "#BALANCE--> L\n",
    "#PURCHASE FREQUENCY-->H\n",
    "#CASH ADVANCE-->L\n",
    "#INSTALLMENTS PURCHASES-->M\n",
    "#CREDIT LIMIT-->H\n",
    "#PAYMENTS-->L\n",
    "#FULL PAYMENT-->H\n"
   ]
  },
  {
   "cell_type": "code",
   "execution_count": null,
   "metadata": {},
   "outputs": [],
   "source": [
    "#let´s characterize the Persona in the Cluster C3\n",
    "cluster_C3=df[df['cluster']==3]\n",
    "cluster_C3[['BALANCE','CASH_ADVANCE','INSTALLMENTS_PURCHASES',\n",
    "            'CREDIT_LIMIT','PAYMENTS']].plot.box(figsize=(18,10),by='cluster',title='Persona C3',legend=True);\n",
    "plt.tight_layout()\n",
    "cluster_C3[['PURCHASES_FREQUENCY','PRC_FULL_PAYMENT']].plot.box(figsize=(18,10),title='Persona C3',legend=True);\n",
    "plt.tight_layout()\n"
   ]
  },
  {
   "cell_type": "code",
   "execution_count": null,
   "metadata": {},
   "outputs": [],
   "source": [
    "#CLUSTER C4 -->934, THESE CUSTOMERS USE THE CREDIT CARD FOR INSTALLMENT PURCHASES. tHEY ARE FINANCIALLY WISE.\n",
    "#----------\n",
    "#BALANCE--> M\n",
    "#PURCHASE FREQUENCY-->H\n",
    "#CASH ADVANCE-->L\n",
    "#INSTALLMENTS PURCHASES-->H\n",
    "#CREDIT LIMIT-->VH\n",
    "#PAYMENTS-->M\n",
    "#FULL PAYMENT-->H"
   ]
  },
  {
   "cell_type": "code",
   "execution_count": null,
   "metadata": {},
   "outputs": [],
   "source": [
    "#let´s characterize the Persona in the Cluster C4\n",
    "cluster_C4=df[df['cluster']==4]\n",
    "cluster_C4[['BALANCE','CASH_ADVANCE','INSTALLMENTS_PURCHASES',\n",
    "            'CREDIT_LIMIT','PAYMENTS']].plot.box(figsize=(18,10),by='cluster',title='Persona C4',legend=True);\n",
    "plt.tight_layout()\n",
    "cluster_C4[['PURCHASES_FREQUENCY','PRC_FULL_PAYMENT']].plot.box(figsize=(18,10),title='Persona C4',legend=True);\n",
    "plt.tight_layout()"
   ]
  },
  {
   "cell_type": "code",
   "execution_count": null,
   "metadata": {},
   "outputs": [],
   "source": [
    "#CLUSTER C5-->457. INCREASE THE CREDIT LIMIT OF THESE CLIENTS\n",
    "#----------\n",
    "#BALANCE--> M\n",
    "#PURCHASE FREQUENCY-->M\n",
    "#CASH ADVANCE-->M\n",
    "#INSTALLMENTS PURCHASES-->H\n",
    "#CREDIT LIMIT-->H\n",
    "#PAYMENTS-->H\n",
    "#FULL PAYMENT-->H"
   ]
  },
  {
   "cell_type": "code",
   "execution_count": null,
   "metadata": {},
   "outputs": [],
   "source": [
    "#let´s characterize the Persona in the Cluster C5\n",
    "cluster_C5=df[df['cluster']==5]\n",
    "cluster_C5[['BALANCE','CASH_ADVANCE','INSTALLMENTS_PURCHASES',\n",
    "            'CREDIT_LIMIT','PAYMENTS']].plot.box(figsize=(18,10),by='cluster',title='Persona C5',legend=True);\n",
    "plt.tight_layout()\n",
    "cluster_C5[['PURCHASES_FREQUENCY','PRC_FULL_PAYMENT']].plot.box(figsize=(18,10),title='Persona C5',legend=True);\n",
    "plt.tight_layout()\n"
   ]
  },
  {
   "cell_type": "code",
   "execution_count": null,
   "metadata": {},
   "outputs": [],
   "source": [
    "#CLUSTER C6-->443, VERY PROFITABLE CUSTOMERS. THEY USE THE CARD AS A REVOLVER.\n",
    "#----------\n",
    "#BALANCE--> H\n",
    "#PURCHASE FREQUENCY-->L\n",
    "#CASH ADVANCE-->M\n",
    "#INSTALLMENTS PURCHASES-->L\n",
    "#CREDIT LIMIT-->H\n",
    "#PAYMENTS-->L\n",
    "#FULL PAYMENT-->L"
   ]
  },
  {
   "cell_type": "code",
   "execution_count": null,
   "metadata": {},
   "outputs": [],
   "source": [
    "#let´s characterize the Persona in the Cluster C6\n",
    "cluster_C6=df[df['cluster']==2]\n",
    "cluster_C6[['BALANCE','CASH_ADVANCE','INSTALLMENTS_PURCHASES',\n",
    "            'CREDIT_LIMIT','PAYMENTS']].plot.box(figsize=(18,10),by='cluster',title='Persona C6',legend=True);\n",
    "plt.tight_layout()\n",
    "cluster_C6[['PURCHASES_FREQUENCY','PRC_FULL_PAYMENT']].plot.box(figsize=(18,10),title='Persona C6',legend=True);\n",
    "plt.tight_layout()"
   ]
  },
  {
   "cell_type": "code",
   "execution_count": null,
   "metadata": {},
   "outputs": [],
   "source": [
    "#CLUSTER C7-->89 tHIS GROUP IS VERY PROFITABLE AS THE DRAW MONEY WITH THE CREDIT CARD AND THEY FORGET TO PAYBACK IT\n",
    "#----------\n",
    "#BALANCE--> H\n",
    "#PURCHASE FREQUENCY-->L\n",
    "#CASH ADVANCE-->VH\n",
    "#INSTALLMENTS PURCHASES-->M\n",
    "#CREDIT LIMIT-->VH\n",
    "#PAYMENTS-->H\n",
    "#FULL PAYMENT-->L"
   ]
  },
  {
   "cell_type": "code",
   "execution_count": null,
   "metadata": {},
   "outputs": [],
   "source": [
    "#let´s characterize the Persona in the Cluster C7\n",
    "cluster_C7=df[df['cluster']==7]\n",
    "cluster_C7[['BALANCE','CASH_ADVANCE','INSTALLMENTS_PURCHASES',\n",
    "            'CREDIT_LIMIT','PAYMENTS']].plot.box(figsize=(18,10),by='cluster',title='Persona C7',legend=True);\n",
    "plt.tight_layout()\n",
    "cluster_C7[['PURCHASES_FREQUENCY','PRC_FULL_PAYMENT']].plot.box(figsize=(18,10),title='Persona C7',legend=True);\n",
    "plt.tight_layout()"
   ]
  },
  {
   "cell_type": "code",
   "execution_count": null,
   "metadata": {},
   "outputs": [],
   "source": [
    "#we can continue exploring the clusters in more detail\n",
    "best_cols = [\"CASH_ADVANCE\",\"PAYMENTS\",\"cluster\"]\n",
    "\n",
    "fig=sns.pairplot( df[ best_cols ], hue=\"cluster\");\n",
    "fig;\n",
    "fig.savefig('clusters.png')"
   ]
  },
  {
   "cell_type": "code",
   "execution_count": null,
   "metadata": {},
   "outputs": [],
   "source": [
    "#we can continue exploring the clusters in more detail\n",
    "best_cols = [\"BALANCE\",\"PAYMENTS\",\"cluster\"]\n",
    "\n",
    "fig=sns.pairplot( df[ best_cols ], hue=\"cluster\");\n",
    "fig;\n",
    "fig.savefig('clusters.png')"
   ]
  },
  {
   "cell_type": "code",
   "execution_count": null,
   "metadata": {},
   "outputs": [],
   "source": [
    "#we can continue exploring the clusters in more detail\n",
    "best_cols = [\"CREDIT_LIMIT\",\"PAYMENTS\",\"cluster\"]\n",
    "\n",
    "fig=sns.pairplot( df[ best_cols ], hue=\"cluster\");\n",
    "fig;\n",
    "fig.savefig('clusters.png')"
   ]
  },
  {
   "cell_type": "code",
   "execution_count": null,
   "metadata": {},
   "outputs": [],
   "source": [
    "#we can continue exploring the clusters in more detail\n",
    "best_cols = [\"CREDIT_LIMIT\",\"INSTALLMENTS_PURCHASES\",\"cluster\"]\n",
    "\n",
    "fig=sns.pairplot( df[ best_cols ], hue=\"cluster\");\n",
    "fig;\n",
    "fig.savefig('clusters.png')"
   ]
  },
  {
   "cell_type": "code",
   "execution_count": null,
   "metadata": {},
   "outputs": [],
   "source": [
    "#we can continue exploring the clusters in more detail\n",
    "best_cols = [\"CASH_ADVANCE\",\"CREDIT_LIMIT\",\"cluster\"]\n",
    "\n",
    "fig=sns.pairplot( df[ best_cols ], hue=\"cluster\");\n",
    "fig;\n",
    "fig.savefig('clusters.png')"
   ]
  },
  {
   "cell_type": "code",
   "execution_count": null,
   "metadata": {},
   "outputs": [],
   "source": []
  },
  {
   "cell_type": "code",
   "execution_count": null,
   "metadata": {},
   "outputs": [],
   "source": []
  },
  {
   "cell_type": "code",
   "execution_count": null,
   "metadata": {},
   "outputs": [],
   "source": []
  },
  {
   "cell_type": "code",
   "execution_count": null,
   "metadata": {},
   "outputs": [],
   "source": []
  }
 ],
 "metadata": {
  "kernelspec": {
   "display_name": "Python 3",
   "language": "python",
   "name": "python3"
  },
  "language_info": {
   "codemirror_mode": {
    "name": "ipython",
    "version": 3
   },
   "file_extension": ".py",
   "mimetype": "text/x-python",
   "name": "python",
   "nbconvert_exporter": "python",
   "pygments_lexer": "ipython3",
   "version": "3.7.4"
  }
 },
 "nbformat": 4,
 "nbformat_minor": 2
}
